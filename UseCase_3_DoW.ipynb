{
 "cells": [
  {
   "cell_type": "code",
   "execution_count": null,
   "metadata": {
    "scrolled": false
   },
   "outputs": [],
   "source": [
    "import pandas as pd\n",
    "import json\n",
    "import copy\n",
    "\n",
    "db = json.load(open('Surroundings.json'))\n",
    "\n",
    "store_code_list = []\n",
    "for i in range(len(db)):\n",
    "    store_code_list.append(db[i]['store_code'])\n",
    "\n",
    "surroundings_list = [*db[0]['surroundings'].keys()]\n",
    "\n",
    "day_of_the_week_list = ['Monday','Tuesday','Wednesday','Thursday','Friday','Saturday','Sunday']\n",
    "\n",
    "#count_dic = {store_code:{surroundings:{Monday:0, Tuesday:0,...}}}\n",
    "tmp1 = {}\n",
    "for i in day_of_the_week_list:\n",
    "    tmp1[i] = 0\n",
    "\n",
    "tmp2 = {}\n",
    "for i in surroundings_list:\n",
    "    dic_tmp = copy.deepcopy(tmp1)\n",
    "    tmp2[i] = dic_tmp\n",
    "count_dic = {}\n",
    "for i in store_code_list:\n",
    "    dic_tmp = copy.deepcopy(tmp2)\n",
    "    count_dic[i] = dic_tmp\n",
    "\n",
    "#print(db[0]['surroundings'][surroundings_list[1]][0]['opening_hours']['weekday_text']) #db[0]['surroundings'][surroundings_list[1]]=[]\n",
    "#['Monday: 9:00 AM – 6:00 PM', 'Tuesday: 9:00 AM – 6:00 PM', 'Wednesday: 9:00 AM – 6:00 PM', 'Thursday: 9:00 AM – 6:00 PM', 'Friday: 9:00 AM – 6:00 PM', 'Saturday: 9:00 AM – 6:00 PM', 'Sunday: Closed']\n",
    "\n",
    "#count_dic = {store_code:{surroundings:{Monday:0, Tuesday:0,...}}}\n",
    "for i in range(len(store_code_list)):\n",
    "    for j in surroundings_list:\n",
    "        if len(db[i]['surroundings'][j])>0:\n",
    "            for k in range(len(db[i]['surroundings'][j])):\n",
    "                if 'opening_hours' in db[i]['surroundings'][j][k]:\n",
    "                    tmp = db[i]['surroundings'][j][k]['opening_hours']['weekday_text']\n",
    "                    for l in range(len(tmp)):\n",
    "                        if tmp[l].count('Closed') == 0:\n",
    "                            count_dic[store_code_list[i]][j][day_of_the_week_list[l]] += 1\n",
    "\n",
    "#pandas \n",
    "list = surroundings_list + ['store_code', 'day_of_the_week']\n",
    "dic = {}\n",
    "for i in list:\n",
    "    dic[i] = 0\n",
    "\n",
    "list = []\n",
    "for i in store_code_list:\n",
    "    for j in day_of_the_week_list:\n",
    "        dic_tmp = copy.deepcopy(dic)\n",
    "        dic_tmp['store_code'] = i\n",
    "        dic_tmp['day_of_the_week'] = j\n",
    "        for k in surroundings_list:\n",
    "            dic_tmp[k] = count_dic[i][k][j]\n",
    "        list.append(dic_tmp)\n",
    "\n",
    "df = pd.DataFrame(list)\n",
    "df.to_csv('output1.csv')\n",
    "\n",
    "print(\"END\")"
   ]
  }
 ],
 "metadata": {
  "kernelspec": {
   "display_name": "Python 3",
   "language": "python",
   "name": "python3"
  },
  "language_info": {
   "codemirror_mode": {
    "name": "ipython",
    "version": 3
   },
   "file_extension": ".py",
   "mimetype": "text/x-python",
   "name": "python",
   "nbconvert_exporter": "python",
   "pygments_lexer": "ipython3",
   "version": "3.7.0"
  }
 },
 "nbformat": 4,
 "nbformat_minor": 2
}
