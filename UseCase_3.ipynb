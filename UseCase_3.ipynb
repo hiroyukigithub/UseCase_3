{
 "cells": [
  {
   "cell_type": "code",
   "execution_count": 219,
   "metadata": {},
   "outputs": [
    {
     "name": "stdout",
     "output_type": "stream",
     "text": [
      "Hello\n",
      "END\n"
     ]
    }
   ],
   "source": [
    "import pandas as pd\n",
    "import json\n",
    "import copy\n",
    "\n",
    "db = json.load(open('Surroundings.json'))\n",
    "\n",
    "store_code_list = []\n",
    "for i in range(len(db)):\n",
    "    store_code_list.append(db[i]['store_code'])\n",
    "\n",
    "surroundings_list = [*db[0]['surroundings'].keys()]\n",
    "\n",
    "#count_dic = {store_code:{surroundings#:0}}\n",
    "tmp1 = {}\n",
    "for i in surroundings_list:\n",
    "    tmp1[i] = 0\n",
    "\n",
    "count_dic = {}\n",
    "for i in store_code_list:\n",
    "    dic_tmp = copy.deepcopy(tmp1)\n",
    "    count_dic[i] = dic_tmp\n",
    "\n",
    "for i in range(len(store_code_list)):\n",
    "    for j in surroundings_list:\n",
    "        count_dic[store_code_list[i]][j] = len(db[i]['surroundings'][j])\n",
    "\n",
    "#pandas\n",
    "list = surroundings_list + ['store_code']\n",
    "dic = {}\n",
    "for i in list:\n",
    "    dic[i] = 0\n",
    "\n",
    "list = []\n",
    "for i in store_code_list:\n",
    "    dic_tmp = copy.deepcopy(dic)\n",
    "    dic_tmp['store_code'] = i\n",
    "    for j in surroundings_list:\n",
    "        dic_tmp[j] = count_dic[i][j]\n",
    "    list.append(dic_tmp)\n",
    "\n",
    "df = pd.DataFrame(list)\n",
    "df.to_csv(\"output1.csv\")\n",
    "\n",
    "#sales_granular\n",
    "df_sales = pd.read_csv('sales_granular.csv',index_col=0)\n",
    "df_sales = df_sales.stack()\n",
    "df_sales = df_sales.groupby('store_code').sum()\n",
    "df_sales.to_csv(\"output2.csv\")\n",
    "\n",
    "print(\"END\")"
   ]
  },
  {
   "cell_type": "code",
   "execution_count": 273,
   "metadata": {},
   "outputs": [
    {
     "name": "stdout",
     "output_type": "stream",
     "text": [
      "MSE train: 154972569.162, test: 912502161.568\n",
      "R^2 train: 0.866, test: -0.207\n"
     ]
    },
    {
     "data": {
      "image/png": "[encoded data removed]",
      "text/plain": [
       "<Figure size 432x288 with 1 Axes>"
      ]
     },
     "metadata": {
      "needs_background": "light"
     },
     "output_type": "display_data"
    },
    {
     "name": "stdout",
     "output_type": "stream",
     "text": [
      "END\n"
     ]
    }
   ],
   "source": [
    "import pandas as pd\n",
    "from sklearn.ensemble import RandomForestRegressor\n",
    "from sklearn.cross_validation import train_test_split\n",
    "from sklearn.metrics import mean_squared_error\n",
    "from sklearn.metrics import r2_score\n",
    "import matplotlib.pyplot as plt\n",
    "\n",
    "df = pd.read_csv('output3.csv',index_col=0)\n",
    "\n",
    "X = df.iloc[:,1:]\n",
    "y = df['sales']\n",
    "\n",
    "X_train, X_test, y_train, y_test  = train_test_split(X,y,test_size=0.5,random_state=1)\n",
    "\n",
    "\n",
    "forest = RandomForestRegressor(n_estimators = 1000, criterion='mse',random_state = 1, n_jobs=-1)\n",
    "\n",
    "forest.fit(X_train, y_train)\n",
    "y_train_pred = forest.predict(X_train)\n",
    "y_test_pred = forest.predict(X_test)\n",
    "\n",
    "print('MSE train: %.3f, test: %.3f'% (mean_squared_error(y_train, y_train_pred),mean_squared_error(y_test,y_test_pred)))\n",
    "print('R^2 train: %.3f, test: %.3f'% (r2_score(y_train,y_train_pred),r2_score(y_test,y_test_pred)))\n",
    "\n",
    "df_importance = pd.DataFrame(forest.feature_importances_)\n",
    "df_importance.to_csv(\"output_importance.csv\")\n",
    "\n",
    "plt.scatter(y_train_pred, y_train, c='black',marker='o',s=35, alpha=0.5,label='Training data')\n",
    "plt.scatter(y_test_pred, y_test, c='lightgreen',marker='s',s=35, alpha=0.7,label='Test data')\n",
    "plt.xlabel('Predicted values')\n",
    "plt.ylabel('Actual values')\n",
    "plt.legend(loc='upper left')\n",
    "plt.hlines(y=0, xmin=-10, xmax=50, lw=2, color='red')\n",
    "plt.show()\n",
    "\n",
    "print('END')"
   ]
  }
 ],
 "metadata": {
  "kernelspec": {
   "display_name": "Python 3",
   "language": "python",
   "name": "python3"
  },
  "language_info": {
   "codemirror_mode": {
    "name": "ipython",
    "version": 3
   },
   "file_extension": ".py",
   "mimetype": "text/x-python",
   "name": "python",
   "nbconvert_exporter": "python",
   "pygments_lexer": "ipython3",
   "version": "3.7.0"
  }
 },
 "nbformat": 4,
 "nbformat_minor": 2
}
